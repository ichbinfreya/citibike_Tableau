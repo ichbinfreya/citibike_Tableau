{
 "cells": [
  {
   "cell_type": "code",
   "execution_count": 1,
   "id": "5fbb0b02-2150-4c3f-ab9a-e11813b9fddb",
   "metadata": {},
   "outputs": [],
   "source": [
    "import pandas as pd"
   ]
  },
  {
   "cell_type": "code",
   "execution_count": 6,
   "id": "cfd7056e-0999-41f7-8ba5-b2b882c07858",
   "metadata": {},
   "outputs": [],
   "source": [
    "# Load the CSV files\n",
    "data_202406 = pd.read_csv('JC-202406-citibike-tripdata.csv')\n",
    "data_202407 = pd.read_csv('JC-202407-citibike-tripdata.csv')\n",
    "data_202408 = pd.read_csv('JC-202408-citibike-tripdata.csv')"
   ]
  },
  {
   "cell_type": "code",
   "execution_count": 7,
   "id": "deb73749-e127-4e6e-b9b5-659fb08c8c45",
   "metadata": {},
   "outputs": [],
   "source": [
    "# Combine the DataFrame into one\n",
    "combined_data = pd.concat([data_202406, data_202407, data_202408], ignore_index=True)"
   ]
  },
  {
   "cell_type": "code",
   "execution_count": 12,
   "id": "302289eb-4108-486d-8063-00241284a076",
   "metadata": {},
   "outputs": [
    {
     "name": "stdout",
     "output_type": "stream",
     "text": [
      "Columns in the DataFrame: Index(['ride_id', 'rideable_type', 'started_at', 'ended_at',\n",
      "       'start_station_name', 'start_station_id', 'end_station_name',\n",
      "       'end_station_id', 'start_lat', 'start_lng', 'end_lat', 'end_lng',\n",
      "       'member_casual', 'tripduration'],\n",
      "      dtype='object')\n",
      "Missing values:\n",
      " ride_id               0\n",
      "rideable_type         0\n",
      "started_at            0\n",
      "ended_at              0\n",
      "start_station_name    0\n",
      "start_station_id      0\n",
      "end_station_name      0\n",
      "end_station_id        0\n",
      "start_lat             0\n",
      "start_lng             0\n",
      "end_lat               0\n",
      "end_lng               0\n",
      "member_casual         0\n",
      "tripduration          0\n",
      "dtype: int64\n"
     ]
    }
   ],
   "source": [
    "# Print column names to verify\n",
    "print(\"Columns in the DataFrame:\", combined_data.columns)\n",
    "\n",
    "# Check for missing values\n",
    "print(\"Missing values:\\n\", combined_data.isnull().sum())\n",
    "\n",
    "# Corrected column names based on your DataFrame\n",
    "required_columns = ['started_at', 'ended_at', 'start_station_id', 'end_station_id']\n",
    "\n",
    "# Check if all required columns are present in the DataFrame\n",
    "for col in required_columns:\n",
    "    if col not in combined_data.columns:\n",
    "        print(f\"Column '{col}' not found in the DataFrame\")\n",
    "\n",
    "# Drop rows with missing critical data (e.g., station or time information)\n",
    "combined_data = combined_data.dropna(subset=required_columns)\n",
    "\n",
    "# Convert date columns to datetime format using .loc to modify in place\n",
    "combined_data.loc[:, 'started_at'] = pd.to_datetime(combined_data['started_at'])\n",
    "combined_data.loc[:, 'ended_at'] = pd.to_datetime(combined_data['ended_at'])\n",
    "\n",
    "# Add trip duration in minutes (if not present) using .loc to modify in place\n",
    "if 'tripduration' not in combined_data.columns:\n",
    "    combined_data.loc[:, 'tripduration'] = (combined_data['ended_at'] - combined_data['started_at']).dt.total_seconds() / 60\n",
    "\n",
    "# Remove negative or zero trip durations\n",
    "combined_data = combined_data[combined_data['tripduration'] > 0]\n",
    "\n",
    "# Filter for realistic trip durations (e.g., between 1 and 180 minutes)\n",
    "combined_data = combined_data[(combined_data['tripduration'] >= 1) & (combined_data['tripduration'] <= 180)]\n",
    "\n",
    "# Check and remove duplicates\n",
    "combined_data = combined_data.drop_duplicates()\n",
    "\n",
    "# Save cleaned data to a new CSV file\n",
    "combined_data.to_csv('Cleaned CitiBike Tripdata/cleaned_citibike_data.csv', index=False)"
   ]
  },
  {
   "cell_type": "code",
   "execution_count": null,
   "id": "25c05858-7c1f-4b04-ac73-daaac67b1bd7",
   "metadata": {},
   "outputs": [],
   "source": []
  }
 ],
 "metadata": {
  "kernelspec": {
   "display_name": "Python (dev)",
   "language": "python",
   "name": "dev"
  },
  "language_info": {
   "codemirror_mode": {
    "name": "ipython",
    "version": 3
   },
   "file_extension": ".py",
   "mimetype": "text/x-python",
   "name": "python",
   "nbconvert_exporter": "python",
   "pygments_lexer": "ipython3",
   "version": "3.9.19"
  }
 },
 "nbformat": 4,
 "nbformat_minor": 5
}
